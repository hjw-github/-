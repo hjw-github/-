{
 "cells": [
  {
   "cell_type": "code",
   "execution_count": 1,
   "metadata": {},
   "outputs": [],
   "source": [
    "import math\n",
    "\n",
    "import numpy as np\n",
    "import pandas as pd\n",
    "import matplotlib.pyplot as plt\n",
    "\n",
    "from sklearn.datasets import load_iris\n",
    "from sklearn.model_selection import train_test_split\n",
    "from collections import Counter"
   ]
  },
  {
   "cell_type": "code",
   "execution_count": 2,
   "metadata": {},
   "outputs": [],
   "source": [
    "def L(x, y, p = 2):\n",
    "    temp =0\n",
    "    if len(x) == len(y) and len(x) > 0:\n",
    "        for i in range(len(x)):\n",
    "            temp += math.pow(abs(x[i] - y[i]),p)\n",
    "        return math.pow(temp,1 / p)\n",
    "    else:\n",
    "        raise Exception (\"输入异常！\")"
   ]
  },
  {
   "cell_type": "code",
   "execution_count": 3,
   "metadata": {},
   "outputs": [
    {
     "data": {
      "text/plain": [
       "2.0"
      ]
     },
     "execution_count": 3,
     "metadata": {},
     "output_type": "execute_result"
    }
   ],
   "source": [
    "L([5],[3])"
   ]
  },
  {
   "cell_type": "code",
   "execution_count": 187,
   "metadata": {},
   "outputs": [],
   "source": [
    "class KNN:\n",
    "    \n",
    "    def __init__(self, train_x, train_y, k, p):\n",
    "        \n",
    "        self.train_x = train_x\n",
    "        self.train_y = train_y\n",
    "        self.k = k\n",
    "        self.p = p\n",
    "    \n",
    "    def fit(self, test_x):\n",
    "        knn_list = []\n",
    "        for i in range(self.k):\n",
    "            dist = L(test_x, self.train_x[i], self.p)\n",
    "            knn_list.append((dist, self.train_y[i]))\n",
    "        \n",
    "        for j in range(self.k, len(train_x)):\n",
    "            max_index = knn_list.index(max(knn_list, key = lambda x: x[0]))\n",
    "            dist = L(test_x, self.train_x[j], self.p)\n",
    "            if knn_list[max_index][0] > dist:\n",
    "                knn_list[max_index] = (dist, self.train_y[j])        \n",
    "        labels = [k[-1] for k in knn_list]\n",
    "        return Counter(labels).most_common(1)[0][0]\n",
    "     \n",
    "    def scores(self, test_x, test_y):\n",
    "        right_count = 0\n",
    "        for i in range(len(test_x)):\n",
    "            label = self.fit(test_x[i])\n",
    "            if label == test_y[i]:\n",
    "                right_count += 1\n",
    "        return right_count / len(test_x)"
   ]
  },
  {
   "cell_type": "code",
   "execution_count": 188,
   "metadata": {},
   "outputs": [],
   "source": [
    "iris = load_iris()\n",
    "df = pd.DataFrame(iris.data, columns=iris.feature_names)\n",
    "df['label'] = iris.target\n",
    "df.columns = ['sepal length', 'sepal width', 'petal length', 'petal width', 'label']"
   ]
  },
  {
   "cell_type": "code",
   "execution_count": 189,
   "metadata": {},
   "outputs": [
    {
     "data": {
      "text/html": [
       "<div>\n",
       "<style scoped>\n",
       "    .dataframe tbody tr th:only-of-type {\n",
       "        vertical-align: middle;\n",
       "    }\n",
       "\n",
       "    .dataframe tbody tr th {\n",
       "        vertical-align: top;\n",
       "    }\n",
       "\n",
       "    .dataframe thead th {\n",
       "        text-align: right;\n",
       "    }\n",
       "</style>\n",
       "<table border=\"1\" class=\"dataframe\">\n",
       "  <thead>\n",
       "    <tr style=\"text-align: right;\">\n",
       "      <th></th>\n",
       "      <th>sepal length</th>\n",
       "      <th>sepal width</th>\n",
       "      <th>petal length</th>\n",
       "      <th>petal width</th>\n",
       "      <th>label</th>\n",
       "    </tr>\n",
       "  </thead>\n",
       "  <tbody>\n",
       "    <tr>\n",
       "      <th>0</th>\n",
       "      <td>5.1</td>\n",
       "      <td>3.5</td>\n",
       "      <td>1.4</td>\n",
       "      <td>0.2</td>\n",
       "      <td>0</td>\n",
       "    </tr>\n",
       "    <tr>\n",
       "      <th>1</th>\n",
       "      <td>4.9</td>\n",
       "      <td>3.0</td>\n",
       "      <td>1.4</td>\n",
       "      <td>0.2</td>\n",
       "      <td>0</td>\n",
       "    </tr>\n",
       "    <tr>\n",
       "      <th>2</th>\n",
       "      <td>4.7</td>\n",
       "      <td>3.2</td>\n",
       "      <td>1.3</td>\n",
       "      <td>0.2</td>\n",
       "      <td>0</td>\n",
       "    </tr>\n",
       "    <tr>\n",
       "      <th>3</th>\n",
       "      <td>4.6</td>\n",
       "      <td>3.1</td>\n",
       "      <td>1.5</td>\n",
       "      <td>0.2</td>\n",
       "      <td>0</td>\n",
       "    </tr>\n",
       "    <tr>\n",
       "      <th>4</th>\n",
       "      <td>5.0</td>\n",
       "      <td>3.6</td>\n",
       "      <td>1.4</td>\n",
       "      <td>0.2</td>\n",
       "      <td>0</td>\n",
       "    </tr>\n",
       "  </tbody>\n",
       "</table>\n",
       "</div>"
      ],
      "text/plain": [
       "   sepal length  sepal width  petal length  petal width  label\n",
       "0           5.1          3.5           1.4          0.2      0\n",
       "1           4.9          3.0           1.4          0.2      0\n",
       "2           4.7          3.2           1.3          0.2      0\n",
       "3           4.6          3.1           1.5          0.2      0\n",
       "4           5.0          3.6           1.4          0.2      0"
      ]
     },
     "execution_count": 189,
     "metadata": {},
     "output_type": "execute_result"
    }
   ],
   "source": [
    "df.head()"
   ]
  },
  {
   "cell_type": "code",
   "execution_count": 190,
   "metadata": {},
   "outputs": [
    {
     "data": {
      "text/plain": [
       "<matplotlib.legend.Legend at 0x7fd258f5aef0>"
      ]
     },
     "execution_count": 190,
     "metadata": {},
     "output_type": "execute_result"
    },
    {
     "data": {
      "image/png": "[encoded data removed]",
      "text/plain": [
       "<Figure size 432x288 with 1 Axes>"
      ]
     },
     "metadata": {
      "needs_background": "light"
     },
     "output_type": "display_data"
    }
   ],
   "source": [
    "plt.scatter(df[:50]['sepal length'], df[:50]['sepal width'], label='0')\n",
    "plt.scatter(df[50:100]['sepal length'], df[50:100]['sepal width'], label='1')\n",
    "plt.xlabel('sepal length')\n",
    "plt.ylabel('sepal width')\n",
    "plt.legend()"
   ]
  },
  {
   "cell_type": "code",
   "execution_count": 191,
   "metadata": {},
   "outputs": [],
   "source": [
    "data = df.iloc[:100, [0, 1, -1]].values\n",
    "X, y = data[:,:-1], data[:,-1]\n",
    "train_x, test_x, train_y, test_y = train_test_split(X, y, test_size=0.2)"
   ]
  },
  {
   "cell_type": "code",
   "execution_count": 192,
   "metadata": {},
   "outputs": [],
   "source": [
    "model = KNN(train_x, train_y,k = 5, p = 2)"
   ]
  },
  {
   "cell_type": "code",
   "execution_count": 193,
   "metadata": {},
   "outputs": [
    {
     "data": {
      "text/plain": [
       "1.0"
      ]
     },
     "execution_count": 193,
     "metadata": {},
     "output_type": "execute_result"
    }
   ],
   "source": [
    "model.scores(test_x, test_y)"
   ]
  },
  {
   "cell_type": "code",
   "execution_count": 196,
   "metadata": {},
   "outputs": [
    {
     "name": "stdout",
     "output_type": "stream",
     "text": [
      "Test Point: 0.0\n"
     ]
    }
   ],
   "source": [
    "test_point = [5.5, 4.2]\n",
    "print('Test Point: {}'.format(model.fit(test_point)))"
   ]
  },
  {
   "cell_type": "code",
   "execution_count": 197,
   "metadata": {},
   "outputs": [
    {
     "data": {
      "text/plain": [
       "<matplotlib.legend.Legend at 0x7fd2589d04e0>"
      ]
     },
     "execution_count": 197,
     "metadata": {},
     "output_type": "execute_result"
    },
    {
     "data": {
      "image/png": "[encoded data removed]",
      "text/plain": [
       "<Figure size 432x288 with 1 Axes>"
      ]
     },
     "metadata": {
      "needs_background": "light"
     },
     "output_type": "display_data"
    }
   ],
   "source": [
    "plt.scatter(df[:50]['sepal length'], df[:50]['sepal width'], label='0')\n",
    "plt.scatter(df[50:100]['sepal length'], df[50:100]['sepal width'], label='1')\n",
    "plt.plot(test_point[0], test_point[1], 'bo', label='test_point')\n",
    "plt.xlabel('sepal length')\n",
    "plt.ylabel('sepal width')\n",
    "plt.legend()"
   ]
  },
  {
   "cell_type": "markdown",
   "metadata": {},
   "source": [
    "### KD树还未完成！"
   ]
  },
  {
   "cell_type": "code",
   "execution_count": 13,
   "metadata": {},
   "outputs": [],
   "source": [
    "## 构造节点\n",
    "class KdNode(object):\n",
    "    \n",
    "    def __init__(self, data, left = None, right = None, split = None):\n",
    "        \n",
    "        self.data = data\n",
    "        self.left = left\n",
    "        self.right = right\n",
    "        self.split = split\n",
    "        \n",
    "    def getdata(self):\n",
    "        return self.data\n",
    "    def getleft(self):\n",
    "        return self.left\n",
    "    def getright(self):\n",
    "        return self.right\n",
    "    def getsplit(self):\n",
    "        return self.split"
   ]
  },
  {
   "cell_type": "code",
   "execution_count": 166,
   "metadata": {},
   "outputs": [],
   "source": [
    "## 构建kd树\n",
    "class KdTree(object):\n",
    "    \n",
    "    def __init__(self):\n",
    "        self.data = data\n",
    "        \n",
    "    def CreatNode(self, train_x, train_y, split_index = 0):\n",
    "        \n",
    "        if len(train_x) == 0:\n",
    "            return None\n",
    "        if len(train_x) == 1:\n",
    "            return KdNode((train_x[0],train_y[0]), None, None, split_index)\n",
    "        \n",
    "        argsort = np.argsort(train_x[:,split_index])\n",
    "        split_index_next = (split_index + 1 ) % len(train_x[0])\n",
    "        \n",
    "        left = self.CreatNode(train_x[argsort[0:len(argsort)//2],:],train_y[argsort[0:len(argsort)//2]], split_index_next)\n",
    "        right = self.CreatNode(train_x[argsort[len(argsort)//2+1:],:],train_y[argsort[len(argsort)//2+1:]], split_index_next)\n",
    "                            \n",
    "        return KdNode((train_x[argsort[len(argsort)//2]],train_y[len(argsort)//2]), left, right, split_index)\n",
    "                      \n",
    "    \n",
    "                      \n",
    "    def SearchTree(self, x, root, k):\n",
    "    \n",
    "        k_list = []\n",
    "        for i in range(k):\n",
    "            k_list.append([-1,None])\n",
    "        self.k_list = np.array(k_list)\n",
    "        \n",
    "        def search_(node):\n",
    "            if node is not None:\n",
    "                split = node.getsplit()\n",
    "                if x[split] < node.getdata()[0][split]:\n",
    "                    search_(node.getleft())\n",
    "                else:\n",
    "                    search_(node.getright())\n",
    "                \n",
    "                dist = L(x, node.getdata()[0], 2)\n",
    "                for i, data in enumerate(self.k_list):\n",
    "                    if data[0] < 0 or dist < data[0]:\n",
    "                        self.k_list = np.insert(self.k_list, i , [dist, node.getdata()], axis = 0)\n",
    "                        self.k_list = self.k_list[:-1]\n",
    "                        break\n",
    "                n = list(self.k_list[:, 0]).count(-1)\n",
    "                if self.k_list[-n-1, 0] > abs(x[split] - node.getdata()[0][split]):\n",
    "                    if x[split] < node.getdata()[0][split]:\n",
    "                        search_(node.getright())\n",
    "                    else:\n",
    "                        search_(node.getleft())\n",
    "           \n",
    "        \n",
    "        search_(root)\n",
    "        knn = self.k_list[:, 1]\n",
    "        belong = []\n",
    "        for i in knn:\n",
    "            belong.append(i[1])\n",
    "        b = max(set(belong), key = belong.count)\n",
    "        #或者\n",
    "        #b = Counter(belong).most_common(1)[0][0]\n",
    "        return self.k_list, b            \n",
    "        "
   ]
  },
  {
   "cell_type": "code",
   "execution_count": 167,
   "metadata": {},
   "outputs": [],
   "source": [
    "kdTree = KdTree()"
   ]
  },
  {
   "cell_type": "code",
   "execution_count": 168,
   "metadata": {},
   "outputs": [],
   "source": [
    "root = kdTree.CreatNode(train_x,train_y,0)"
   ]
  },
  {
   "cell_type": "code",
   "execution_count": 195,
   "metadata": {},
   "outputs": [
    {
     "data": {
      "text/plain": [
       "(array([[0.0, (array([5.5, 4.2]), 0.0)],\n",
       "        [0.2828427124746193, (array([5.7, 4.4]), 0.0)],\n",
       "        [0.31622776601683794, (array([5.2, 4.1]), 0.0)],\n",
       "        [0.31622776601683805, (array([5.4, 3.9]), 0.0)],\n",
       "        [0.5099019513592784, (array([5.4, 3.7]), 0.0)]], dtype=object), 0.0)"
      ]
     },
     "execution_count": 195,
     "metadata": {},
     "output_type": "execute_result"
    }
   ],
   "source": [
    "kdTree.SearchTree([5.5, 4.2],root,5)"
   ]
  },
  {
   "cell_type": "code",
   "execution_count": null,
   "metadata": {},
   "outputs": [],
   "source": []
  }
 ],
 "metadata": {
  "kernelspec": {
   "display_name": "Python 3",
   "language": "python",
   "name": "python3"
  },
  "language_info": {
   "codemirror_mode": {
    "name": "ipython",
    "version": 3
   },
   "file_extension": ".py",
   "mimetype": "text/x-python",
   "name": "python",
   "nbconvert_exporter": "python",
   "pygments_lexer": "ipython3",
   "version": "3.7.3"
  }
 },
 "nbformat": 4,
 "nbformat_minor": 2
}
